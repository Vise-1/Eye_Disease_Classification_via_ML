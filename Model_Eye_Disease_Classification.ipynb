{
  "nbformat": 4,
  "nbformat_minor": 0,
  "metadata": {
    "colab": {
      "provenance": [],
      "gpuType": "T4",
      "authorship_tag": "ABX9TyOCix2Xqi2X1i0yQT4iLikd",
      "include_colab_link": true
    },
    "kernelspec": {
      "name": "python3",
      "display_name": "Python 3"
    },
    "language_info": {
      "name": "python"
    },
    "accelerator": "GPU"
  },
  "cells": [
    {
      "cell_type": "markdown",
      "metadata": {
        "id": "view-in-github",
        "colab_type": "text"
      },
      "source": [
        "<a href=\"https://colab.research.google.com/github/Vise-1/Eye_Disease_Classification_via_ML/blob/main/Model_Eye_Disease_Classification.ipynb\" target=\"_parent\"><img src=\"https://colab.research.google.com/assets/colab-badge.svg\" alt=\"Open In Colab\"/></a>"
      ]
    },
    {
      "cell_type": "code",
      "source": [
        "# Importing Dependencies.\n",
        "import requests\n",
        "import zipfile\n",
        "from pathlib import Path\n",
        "from tqdm.auto import tqdm\n",
        "import shutil\n",
        "import os\n",
        "\n",
        "import torch\n",
        "from torch import nn\n",
        "\n",
        "# Device agnostics.\n",
        "device = 'cuda' if torch.cuda.is_available() else 'cpu'"
      ],
      "metadata": {
        "id": "QVlUH1xYUnU6"
      },
      "execution_count": null,
      "outputs": []
    },
    {
      "cell_type": "code",
      "source": [
        "url = \"https://github.com/PerceptiLabs/ocular-disease/archive/refs/heads/main.zip\"\n",
        "\n",
        "# Creating directory and Downloading data\n",
        "data_path = Path(\"data/\")\n",
        "img_path = data_path / \"Dataset_Eye_Disease\"\n",
        "\n",
        "if img_path.is_dir():\n",
        "  print(f\"{img_path} directory already exists..... SKIPPING DOWNLOAD\")\n",
        "else:\n",
        "  print(f\"{img_path} does not exists, creating one...\")\n",
        "  img_path.mkdir(parents=True, exist_ok=True)\n",
        "\n",
        "# Download dataset from github (same as kaggle but calling the API was a hassle so opted for this PS: Much easier this way, trust me)\n",
        "with open(data_path / \"ocular-disease-main.zip\", \"wb\") as f:\n",
        "  request = requests.get(url)\n",
        "  print(\"Downloading Eye Disease Dataset...\")\n",
        "  f.write(request.content)\n",
        "\n",
        "# Unzipping data to created folder\n",
        "with zipfile.ZipFile(data_path / \"ocular-disease-main.zip\", \"r\") as zip_ref:\n",
        "  print(f\"Unzipping Eye Disease Dataset...\")\n",
        "  zip_ref.extractall(img_path)"
      ],
      "metadata": {
        "colab": {
          "base_uri": "https://localhost:8080/"
        },
        "id": "5JC6wgIcUw1R",
        "outputId": "f6b99c80-e0f1-420a-ad02-185271c3cfac"
      },
      "execution_count": null,
      "outputs": [
        {
          "output_type": "stream",
          "name": "stdout",
          "text": [
            "data/Dataset_Eye_Disease directory already exists..... SKIPPING DOWNLOAD\n",
            "Downloading Eye Disease Dataset...\n",
            "Unzipping Eye Disease Dataset...\n"
          ]
        }
      ]
    },
    {
      "cell_type": "code",
      "source": [],
      "metadata": {
        "id": "XJKLLVF5MYjN"
      },
      "execution_count": null,
      "outputs": []
    }
  ]
}